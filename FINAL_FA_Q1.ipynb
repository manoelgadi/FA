{
 "cells": [
  {
   "cell_type": "code",
   "execution_count": null,
   "id": "2c6271da",
   "metadata": {},
   "outputs": [],
   "source": [
    "import matplotlib.pyplot as plt\n",
    "%matplotlib inline\n",
    "import pandas as pd\n",
    "import numpy as np\n",
    "import datetime   \n",
    "df = pd.read_excel('https://github.com/manoelgadi/FA/raw/main/ethusd5min.xlsx')\n",
    "df.set_index('datetime',drop=True,inplace=True)\n",
    "df.index = pd.to_datetime(df.index)\n",
    "df = df.drop(df.columns[0], axis=1)\n",
    "df = df.resample('1H').last()\n",
    "df['slow_ma'] = df['close'].rolling(40).mean()\n",
    "df['fast_ma'] = df['close'].rolling(120).mean()\n",
    "df['position'] = np.where(df['fast_ma']>df['slow_ma'],1,-1)\n",
    "df['entry'] = np.where(df['position'].shift(1)!=df['position'],np.where(df['position'].shift(1)==-1,1,-1),0)\n",
    "df_entries = df.loc[df['entry']!=0]\n",
    "df_entries = df_entries.dropna()\n",
    "df_entries['return'] = np.log(df_entries['close']/df_entries['close'].shift(1))\n",
    "df_entries['strategy_return'] = df_entries['return'] * df_entries['position'].shift(1)\n",
    "df_entries['cum_strat_ret'] = (1+df_entries['strategy_return']).cumprod()\n",
    "initial_capital = 100000\n",
    "df_entries['capital'] = initial_capital*df_entries['cum_strat_ret']\n",
    "winning_rate = len(df_entries[df_entries['strategy_return']>0])/len(df_entries)\n",
    "losing_rate = 1 - winning_rate\n",
    "profit_factor = df_entries\n",
    "avg_gain = df_entries[df_entries['strategy_return']>0]['strategy_return'].mean()\n",
    "max_gain = df_entries['strategy_return'].max()\n",
    "avg_loss = df_entries[df_entries['strategy_return']<=0]['strategy_return'].mean()\n",
    "max_loss = df_entries['strategy_return'].min()\n",
    "expectancy = abs((winning_rate*avg_gain)/(losing_rate*avg_loss))\n",
    "print(\"winning rate : {0:.2f} %\".format(winning_rate*100))\n",
    "print(\"Losing rate : {0:.2f} %\".format(losing_rate*100))\n",
    "print(\"maximum gain : {0:.2f} %\".format(max_gain*100))\n",
    "print(\"maximum loss : {0:.2f} %\".format(max_loss*100))\n",
    "print(\"average gain: {0:.2f} %\".format(avg_gain*100))\n",
    "print(\"average loss: {0:.2f} %\".format(avg_loss*100))\n",
    "print(\"expectancy: {0:.2f}\".format(expectancy))"
   ]
  }
 ],
 "metadata": {
  "kernelspec": {
   "display_name": "Python 3 (ipykernel)",
   "language": "python",
   "name": "python3"
  },
  "language_info": {
   "codemirror_mode": {
    "name": "ipython",
    "version": 3
   },
   "file_extension": ".py",
   "mimetype": "text/x-python",
   "name": "python",
   "nbconvert_exporter": "python",
   "pygments_lexer": "ipython3",
   "version": "3.11.4"
  }
 },
 "nbformat": 4,
 "nbformat_minor": 5
}
